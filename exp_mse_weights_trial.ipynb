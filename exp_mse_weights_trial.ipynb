{
 "cells": [
  {
   "cell_type": "markdown",
   "id": "01b751cf",
   "metadata": {},
   "source": [
    "## Import relevant packages"
   ]
  },
  {
   "cell_type": "code",
   "execution_count": 107,
   "id": "abc973c0",
   "metadata": {},
   "outputs": [],
   "source": [
    "import numpy as np\n",
    "import matplotlib.pyplot as plt\n",
    "import torch\n",
    "import torch.nn as nn"
   ]
  },
  {
   "cell_type": "code",
   "execution_count": 110,
   "id": "c04afe4a",
   "metadata": {},
   "outputs": [],
   "source": [
    "def loss_weighted_mse(y_pred, y, loss_weights):\n",
    "    y_diff_squared = (y - y_pred)**2\n",
    "    y_diff_squared_weighted = torch.einsum('ijkl,j->ijkl', y_diff_squared, exp_mse_weights)\n",
    "    weighted_mse = torch.mean(y_diff_squared_weighted)\n",
    "    return weighted_mse"
   ]
  },
  {
   "cell_type": "code",
   "execution_count": 111,
   "id": "f27d93b7",
   "metadata": {},
   "outputs": [],
   "source": [
    "def generate_exp_weights(T, alpha):\n",
    "    decay_length = 10.0\n",
    "    augmentation_container = torch.linspace(0, 1, steps=T)\n",
    "    augmentation_parameter = torch.linspace(0, alpha, steps=T)\n",
    "    exp_mse_weights_unflipped = torch.exp(-decay_length * augmentation_container)\n",
    "    exp_mse_weights = torch.flip(exp_mse_weights_unflipped, dims=[0])\n",
    "    return exp_mse_weights"
   ]
  },
  {
   "cell_type": "code",
   "execution_count": 112,
   "id": "5ebe5e21",
   "metadata": {},
   "outputs": [],
   "source": [
    "T = 20\n",
    "alpha = 0.01\n",
    "exp_mse_weights = generate_exp_weights(T, alpha)"
   ]
  },
  {
   "cell_type": "code",
   "execution_count": 113,
   "id": "4c316b14",
   "metadata": {},
   "outputs": [],
   "source": [
    "iter_image = torch.zeros(1, T, 28, 28)\n",
    "training_image = torch.ones(1, T, 28, 28)"
   ]
  },
  {
   "cell_type": "code",
   "execution_count": 114,
   "id": "2519ab40",
   "metadata": {},
   "outputs": [],
   "source": [
    "loss_exp_mse = loss_weighted_mse(iter_image, training_image, exp_mse_weights)"
   ]
  },
  {
   "cell_type": "code",
   "execution_count": 115,
   "id": "4ad3d372",
   "metadata": {},
   "outputs": [
    {
     "data": {
      "text/plain": [
       "tensor(0.1222)"
      ]
     },
     "execution_count": 115,
     "metadata": {},
     "output_type": "execute_result"
    }
   ],
   "source": [
    "loss_exp_mse"
   ]
  },
  {
   "cell_type": "code",
   "execution_count": 116,
   "id": "4fce03f0",
   "metadata": {},
   "outputs": [
    {
     "data": {
      "text/plain": [
       "tensor(0.1222)"
      ]
     },
     "execution_count": 116,
     "metadata": {},
     "output_type": "execute_result"
    }
   ],
   "source": [
    "torch.mean(exp_mse_weights)"
   ]
  },
  {
   "cell_type": "code",
   "execution_count": 117,
   "id": "a97c3d15",
   "metadata": {},
   "outputs": [],
   "source": [
    "criterion = nn.MSELoss()"
   ]
  },
  {
   "cell_type": "code",
   "execution_count": 118,
   "id": "fa86c45f",
   "metadata": {},
   "outputs": [],
   "source": [
    "loss_mse = criterion(iter_image, training_image)"
   ]
  },
  {
   "cell_type": "code",
   "execution_count": 119,
   "id": "82c6c3b0",
   "metadata": {},
   "outputs": [
    {
     "data": {
      "text/plain": [
       "tensor(1.)"
      ]
     },
     "execution_count": 119,
     "metadata": {},
     "output_type": "execute_result"
    }
   ],
   "source": [
    "loss_mse"
   ]
  }
 ],
 "metadata": {
  "kernelspec": {
   "display_name": "Python 3 (ipykernel)",
   "language": "python",
   "name": "python3"
  },
  "language_info": {
   "codemirror_mode": {
    "name": "ipython",
    "version": 3
   },
   "file_extension": ".py",
   "mimetype": "text/x-python",
   "name": "python",
   "nbconvert_exporter": "python",
   "pygments_lexer": "ipython3",
   "version": "3.11.3"
  }
 },
 "nbformat": 4,
 "nbformat_minor": 5
}
